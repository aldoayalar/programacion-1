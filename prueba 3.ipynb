{
 "cells": [
  {
   "cell_type": "markdown",
   "source": [
    "ejercicio de la tercera prueba, debe solicitar un dia y mostrar la temperatura maxima de ese dia\n",
    "el arreglo tiene temperaturas máximas y mínimas"
   ],
   "metadata": {
    "collapsed": false,
    "pycharm": {
     "name": "#%% md\n"
    }
   }
  },
  {
   "cell_type": "code",
   "execution_count": 31,
   "outputs": [
    {
     "name": "stdout",
     "output_type": "stream",
     "text": [
      "[50.   0.2 51.   0.6 52.   1.  53.   1.4 54.   1.8 55.   2.2 56.   2.6\n",
      " 57.   3.  58.   3.4 59.   3.8 60.   4.2 61.   4.6 62.   5.  63.   5.4\n",
      " 64.   5.8 65.   6.2 66.   6.6 67.   7.  68.   7.4 69.   7.8 70.   8.2\n",
      " 71.   8.6 72.   9.  73.   9.4 74.   9.8 75.  10.2 76.  10.6 77.  11.\n",
      " 78.  11.4 79.  11.8]\n",
      "74.0\n"
     ]
    }
   ],
   "source": [
    "import numpy as np\n",
    "#creo dos arreglos con numeros aleatorios\n",
    "a = np.arange(0, 30, 0.2)\n",
    "b = np.arange(50, 80, 0.5)\n",
    "c = np.zeros(60)\n",
    "\n",
    "dia = 0\n",
    "\n",
    "#junto los arreglos en uno solo para que sea como el de la prueba\n",
    "for i in range(60):\n",
    "    if i % 2:\n",
    "        c[i] = a[i]\n",
    "    else:\n",
    "        c[i] = b[i]\n",
    "\n",
    "dia = int(input(\"ingrese dia a consultar\"))\n",
    "\n",
    "pos = dia * 2 - 2\n",
    "\n",
    "print(c)\n",
    "print(c[pos])"
   ],
   "metadata": {
    "collapsed": false,
    "pycharm": {
     "name": "#%%\n"
    }
   }
  }
 ],
 "metadata": {
  "kernelspec": {
   "display_name": "Python 3",
   "language": "python",
   "name": "python3"
  },
  "language_info": {
   "codemirror_mode": {
    "name": "ipython",
    "version": 2
   },
   "file_extension": ".py",
   "mimetype": "text/x-python",
   "name": "python",
   "nbconvert_exporter": "python",
   "pygments_lexer": "ipython2",
   "version": "2.7.6"
  }
 },
 "nbformat": 4,
 "nbformat_minor": 0
}