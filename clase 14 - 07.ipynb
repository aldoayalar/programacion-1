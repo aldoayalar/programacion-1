{
 "cells": [
  {
   "cell_type": "markdown",
   "source": [
    "Intercambie los elementos de dos arreglos previamente poblados"
   ],
   "metadata": {
    "collapsed": false,
    "pycharm": {
     "name": "#%% md\n"
    }
   }
  },
  {
   "cell_type": "code",
   "execution_count": 1,
   "outputs": [
    {
     "name": "stdout",
     "output_type": "stream",
     "text": [
      "arreglo a [100  70  10  50  80  40  60  20  90  30]\n",
      "arreglo b [10  7  1  5  8  4  6  2  9  3]\n"
     ]
    }
   ],
   "source": [
    "import numpy as np\n",
    "\n",
    "a = np.array([10, 7, 1, 5, 8, 4, 6, 2, 9, 3])\n",
    "b = np.array([100, 70, 10, 50, 80, 40, 60, 20, 90, 30])\n",
    "aux = 0\n",
    "\n",
    "for i in range(10):\n",
    "    aux = a[i]\n",
    "    a[i] = b[i]\n",
    "    b[i] = aux\n",
    "\n",
    "print(\"arreglo a\", a)\n",
    "print(\"arreglo b\", b)"
   ],
   "metadata": {
    "collapsed": false,
    "pycharm": {
     "name": "#%%\n"
    }
   }
  }
 ],
 "metadata": {
  "kernelspec": {
   "display_name": "Python 3",
   "language": "python",
   "name": "python3"
  },
  "language_info": {
   "codemirror_mode": {
    "name": "ipython",
    "version": 2
   },
   "file_extension": ".py",
   "mimetype": "text/x-python",
   "name": "python",
   "nbconvert_exporter": "python",
   "pygments_lexer": "ipython2",
   "version": "2.7.6"
  }
 },
 "nbformat": 4,
 "nbformat_minor": 0
}